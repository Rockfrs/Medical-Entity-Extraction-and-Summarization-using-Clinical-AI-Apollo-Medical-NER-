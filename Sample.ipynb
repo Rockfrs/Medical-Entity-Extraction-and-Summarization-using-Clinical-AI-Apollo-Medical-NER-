{
 "cells": [
  {
   "cell_type": "code",
   "execution_count": 2,
   "metadata": {},
   "outputs": [],
   "source": [
    "# Example case notes\n",
    "case_notes = [\n",
    "    \"45 year old woman diagnosed with CAD and prescribed aspirin.\",\n",
    "    \"32 year old man reports chest pain and was treated with metoprolol.\",\n",
    "    \"60 year old male patient with history of hypertension and diabetes, started on amlodipine.\",\n",
    "    \"Patient is a 28 year old female diagnosed with COVID-19 and given acetaminophen.\"\n",
    "]\n"
   ]
  },
  {
   "cell_type": "code",
   "execution_count": 3,
   "metadata": {},
   "outputs": [
    {
     "name": "stderr",
     "output_type": "stream",
     "text": [
      "Hardware accelerator e.g. GPU is available in the environment, but no `device` argument is passed to the `Pipeline` object. Model will be on CPU.\n",
      "Asking to truncate to max_length but no maximum length is provided and the model has no predefined maximum length. Default to no truncation.\n"
     ]
    },
    {
     "name": "stdout",
     "output_type": "stream",
     "text": [
      "Case Note 1: {'AGE': ['45 year old'], 'SEX': ['woman'], 'DISEASE_DISORDER': ['CAD'], 'MEDICATION': ['aspirin']}\n",
      "Case Note 2: {'AGE': ['32 year old'], 'SEX': ['man'], 'BIOLOGICAL_STRUCTURE': ['chest'], 'SIGN_SYMPTOM': ['pain'], 'MEDICATION': ['metoprolol']}\n",
      "Case Note 3: {'AGE': ['60 year old'], 'SEX': ['male'], 'DISEASE_DISORDER': ['hypertension', 'diabetes'], 'MEDICATION': ['amlodipine']}\n",
      "Case Note 4: {'AGE': ['28 year old'], 'SEX': ['female'], 'DISEASE_DISORDER': ['COVID-19'], 'MEDICATION': ['acetaminophen']}\n"
     ]
    }
   ],
   "source": [
    "from transformers import pipeline\n",
    "\n",
    "# Load the pipeline for medical entity recognition\n",
    "pipe = pipeline(\"token-classification\", model=\"Clinical-AI-Apollo/Medical-NER\", aggregation_strategy='simple')\n",
    "\n",
    "# Function to extract entities from case notes\n",
    "def extract_medical_entities(case_notes):\n",
    "    structured_data = []\n",
    "    \n",
    "    for note in case_notes:\n",
    "        result = pipe(note)\n",
    "        extracted_entities = {}\n",
    "        \n",
    "        # Collecting entities by their type\n",
    "        for entity in result:\n",
    "            entity_type = entity['entity_group']\n",
    "            extracted_entities[entity_type] = extracted_entities.get(entity_type, []) + [entity['word']]\n",
    "        \n",
    "        structured_data.append(extracted_entities)\n",
    "    \n",
    "    return structured_data\n",
    "\n",
    "# Extracted data\n",
    "extracted_data = extract_medical_entities(case_notes)\n",
    "\n",
    "# Display extracted data\n",
    "for i, data in enumerate(extracted_data):\n",
    "    print(f\"Case Note {i + 1}: {data}\")\n"
   ]
  },
  {
   "cell_type": "code",
   "execution_count": 4,
   "metadata": {},
   "outputs": [],
   "source": [
    "# Function to create a structured summary\n",
    "def summarize_extracted_entities(extracted_data):\n",
    "    for i, data in enumerate(extracted_data):\n",
    "        print(f\"\\nSummary of Case Note {i + 1}:\")\n",
    "        if 'PATIENT_AGE' in data:\n",
    "            print(f\" - Patient Age: {', '.join(data['PATIENT_AGE'])}\")\n",
    "        if 'DISEASE' in data:\n",
    "            print(f\" - Diagnosed Disease(s): {', '.join(data['DISEASE'])}\")\n",
    "        if 'SYMPTOM' in data:\n",
    "            print(f\" - Symptoms: {', '.join(data['SYMPTOM'])}\")\n",
    "        if 'MEDICATION' in data:\n",
    "            print(f\" - Prescribed Medication(s): {', '.join(data['MEDICATION'])}\")\n"
   ]
  },
  {
   "cell_type": "code",
   "execution_count": 5,
   "metadata": {},
   "outputs": [],
   "source": [
    "# Case note input (you can change or add more case notes here)\n",
    "case_note = \"45 year old woman diagnosed with CAD and prescribed aspirin.\"\n",
    "\n",
    "# Extract entities from the input\n",
    "extracted_data = extract_medical_entities([case_note])"
   ]
  },
  {
   "cell_type": "code",
   "execution_count": 6,
   "metadata": {},
   "outputs": [
    {
     "data": {
      "text/plain": [
       "[{'AGE': ['45 year old'],\n",
       "  'SEX': ['woman'],\n",
       "  'DISEASE_DISORDER': ['CAD'],\n",
       "  'MEDICATION': ['aspirin']}]"
      ]
     },
     "execution_count": 6,
     "metadata": {},
     "output_type": "execute_result"
    }
   ],
   "source": [
    "extracted_data"
   ]
  },
  {
   "cell_type": "code",
   "execution_count": 1,
   "metadata": {},
   "outputs": [],
   "source": [
    "## Advanced Medical Entity Extraction and Reporting SystemAdvanced Medical Entity Extraction and Reporting System"
   ]
  },
  {
   "cell_type": "code",
   "execution_count": 2,
   "metadata": {},
   "outputs": [],
   "source": [
    "import spacy\n",
    "\n",
    "# Load SpaCy model for text processing\n",
    "nlp = spacy.load(\"en_core_web_sm\")\n",
    "\n",
    "# Function to clean and preprocess text\n",
    "def preprocess_text(text):\n",
    "    doc = nlp(text)\n",
    "    cleaned_text = \" \".join([token.lemma_ for token in doc if not token.is_stop and not token.is_punct])\n",
    "    \n",
    "    # Replace medical abbreviations\n",
    "    abbreviations = {\"CAD\": \"Coronary Artery Disease\", \"HTN\": \"Hypertension\"}\n",
    "    for abbr, expanded in abbreviations.items():\n",
    "        cleaned_text = cleaned_text.replace(abbr, expanded)\n",
    "    \n",
    "    return cleaned_text\n"
   ]
  },
  {
   "cell_type": "code",
   "execution_count": 4,
   "metadata": {},
   "outputs": [
    {
     "name": "stderr",
     "output_type": "stream",
     "text": [
      "Hardware accelerator e.g. GPU is available in the environment, but no `device` argument is passed to the `Pipeline` object. Model will be on CPU.\n",
      "Asking to truncate to max_length but no maximum length is provided and the model has no predefined maximum length. Default to no truncation.\n"
     ]
    },
    {
     "name": "stdout",
     "output_type": "stream",
     "text": [
      "{'AGE': ['45 year old'], 'SEX': ['woman'], 'DISEASE_DISORDER': ['CAD'], 'MEDICATION': ['aspirin']}\n"
     ]
    }
   ],
   "source": [
    "from transformers import pipeline\n",
    "\n",
    "# Load the medical NER model pipeline\n",
    "ner_pipe = pipeline(\"token-classification\", model=\"Clinical-AI-Apollo/Medical-NER\", aggregation_strategy='simple')\n",
    "\n",
    "# Extract medical entities from the case notes\n",
    "def extract_entities(case_note):\n",
    "    entities = ner_pipe(case_note)\n",
    "    \n",
    "    # Start with an empty dictionary\n",
    "    entity_dict = {}\n",
    "    for entity in entities:\n",
    "        entity_type = entity['entity_group']\n",
    "        \n",
    "        # Add the entity type if it's not already in the dictionary\n",
    "        if entity_type not in entity_dict:\n",
    "            entity_dict[entity_type] = []\n",
    "        \n",
    "        entity_dict[entity_type].append(entity['word'])\n",
    "    \n",
    "    return entity_dict\n",
    "\n",
    "# Test with sample data\n",
    "case_note = \"45 year old woman diagnosed with CAD and prescribed aspirin.\"\n",
    "extracted = extract_entities(case_note)\n",
    "print(extracted)\n"
   ]
  },
  {
   "cell_type": "code",
   "execution_count": 5,
   "metadata": {},
   "outputs": [],
   "source": [
    "## With Data Anlytics, Visulisation and Batch processing"
   ]
  },
  {
   "cell_type": "code",
   "execution_count": 6,
   "metadata": {},
   "outputs": [
    {
     "ename": "ModuleNotFoundError",
     "evalue": "No module named 'seaborn'",
     "output_type": "error",
     "traceback": [
      "\u001b[1;31m---------------------------------------------------------------------------\u001b[0m",
      "\u001b[1;31mModuleNotFoundError\u001b[0m                       Traceback (most recent call last)",
      "Cell \u001b[1;32mIn[6], line 5\u001b[0m\n\u001b[0;32m      3\u001b[0m \u001b[38;5;28;01mimport\u001b[39;00m \u001b[38;5;21;01mpandas\u001b[39;00m \u001b[38;5;28;01mas\u001b[39;00m \u001b[38;5;21;01mpd\u001b[39;00m\n\u001b[0;32m      4\u001b[0m \u001b[38;5;28;01mimport\u001b[39;00m \u001b[38;5;21;01mmatplotlib\u001b[39;00m\u001b[38;5;21;01m.\u001b[39;00m\u001b[38;5;21;01mpyplot\u001b[39;00m \u001b[38;5;28;01mas\u001b[39;00m \u001b[38;5;21;01mplt\u001b[39;00m\n\u001b[1;32m----> 5\u001b[0m \u001b[38;5;28;01mimport\u001b[39;00m \u001b[38;5;21;01mseaborn\u001b[39;00m \u001b[38;5;28;01mas\u001b[39;00m \u001b[38;5;21;01msns\u001b[39;00m\n\u001b[0;32m      7\u001b[0m \u001b[38;5;66;03m# Load SpaCy model for text preprocessing\u001b[39;00m\n\u001b[0;32m      8\u001b[0m nlp \u001b[38;5;241m=\u001b[39m spacy\u001b[38;5;241m.\u001b[39mload(\u001b[38;5;124m\"\u001b[39m\u001b[38;5;124men_core_web_sm\u001b[39m\u001b[38;5;124m\"\u001b[39m)\n",
      "\u001b[1;31mModuleNotFoundError\u001b[0m: No module named 'seaborn'"
     ]
    }
   ],
   "source": [
    "import spacy\n",
    "from transformers import pipeline\n",
    "import pandas as pd\n",
    "import matplotlib.pyplot as plt\n",
    "import seaborn as sns\n",
    "\n",
    "# Load SpaCy model for text preprocessing\n",
    "nlp = spacy.load(\"en_core_web_sm\")\n",
    "\n",
    "# Load the medical NER model pipeline\n",
    "ner_pipe = pipeline(\"token-classification\", model=\"Clinical-AI-Apollo/Medical-NER\", aggregation_strategy='simple')\n",
    "\n",
    "# Preprocess text\n",
    "def preprocess_text(text):\n",
    "    doc = nlp(text)\n",
    "    cleaned_text = \" \".join([token.lemma_ for token in doc if not token.is_stop and not token.is_punct])\n",
    "    abbreviations = {\"CAD\": \"Coronary Artery Disease\", \"HTN\": \"Hypertension\"}\n",
    "    for abbr, expanded in abbreviations.items():\n",
    "        cleaned_text = cleaned_text.replace(abbr, expanded)\n",
    "    return cleaned_text\n",
    "\n",
    "# Batch process multiple case notes\n",
    "def batch_process_case_notes(case_notes):\n",
    "    data = []\n",
    "    for note in case_notes:\n",
    "        preprocessed_note = preprocess_text(note)\n",
    "        entities = ner_pipe(preprocessed_note)\n",
    "        data.append(entities)\n",
    "    return data\n",
    "\n",
    "# Extract and summarize entities\n",
    "def extract_entities(case_notes):\n",
    "    results = []\n",
    "    for note in case_notes:\n",
    "        entities = ner_pipe(note)\n",
    "        entity_dict = {'AGE': [], 'DISEASE': [], 'MEDICATION': [], 'SYMPTOM': [], 'SEX': []}\n",
    "        for entity in entities:\n",
    "            entity_type = entity['entity_group']\n",
    "            if entity_type in entity_dict:\n",
    "                entity_dict[entity_type].append(entity['word'])\n",
    "        results.append(entity_dict)\n",
    "    return results\n",
    "\n",
    "# Example case notes (you can add more here)\n",
    "case_notes = [\n",
    "    \"45 year old woman diagnosed with CAD and prescribed aspirin.\",\n",
    "    \"60 year old male with HTN, taking metoprolol and lisinopril.\",\n",
    "    \"35 year old male presented with fever and cough, diagnosed with pneumonia.\"\n",
    "]\n",
    "\n",
    "# Batch processing\n",
    "extracted_data = extract_entities(case_notes)\n",
    "\n",
    "# Convert extracted entities to a DataFrame for analysis\n",
    "df = pd.DataFrame(extracted_data)\n",
    "\n",
    "# Display the data for analytics\n",
    "df\n"
   ]
  },
  {
   "cell_type": "code",
   "execution_count": null,
   "metadata": {},
   "outputs": [],
   "source": [
    "!conda install seaborn"
   ]
  },
  {
   "cell_type": "code",
   "execution_count": null,
   "metadata": {},
   "outputs": [],
   "source": []
  }
 ],
 "metadata": {
  "kernelspec": {
   "display_name": "cuda_test",
   "language": "python",
   "name": "python3"
  },
  "language_info": {
   "codemirror_mode": {
    "name": "ipython",
    "version": 3
   },
   "file_extension": ".py",
   "mimetype": "text/x-python",
   "name": "python",
   "nbconvert_exporter": "python",
   "pygments_lexer": "ipython3",
   "version": "3.12.7"
  }
 },
 "nbformat": 4,
 "nbformat_minor": 2
}
